{
  "cells": [
    {
      "cell_type": "markdown",
      "metadata": {
        "id": "M-DGa20PaHnu"
      },
      "source": [
        "# Задача 1\n",
        "Написать функцию на вход которой подается строка, состоящая из латинских букв.\n",
        "Функция должна вернуть количество гласных букв (a, e, i, o, u) в этой строке. Написать тесты для кода"
      ]
    },
    {
      "cell_type": "code",
      "execution_count": 6,
      "metadata": {
        "id": "XvX8X_JJ6PCb"
      },
      "outputs": [
        {
          "name": "stdout",
          "output_type": "stream",
          "text": [
            "0\n",
            "5\n",
            "3\n",
            "0\n",
            "1\n",
            "4\n",
            "Неправильные данные\n"
          ]
        }
      ],
      "source": [
        "def count_vowel_letters(text):\n",
        "    if not isinstance(text, str):\n",
        "        return \"Неправильные данные\"\n",
        "\n",
        "    count = 0\n",
        "    for element in text:\n",
        "        if element in 'aeiouAEIOU':\n",
        "            count += 1\n",
        "    return count\n",
        "\n",
        "\n",
        "def test_1():\n",
        "    return count_vowel_letters('rhythm')\n",
        "\n",
        "\n",
        "def test_2():\n",
        "    return count_vowel_letters('aeiou')\n",
        "\n",
        "\n",
        "def test_3():\n",
        "    return count_vowel_letters('hello world')\n",
        "\n",
        "\n",
        "def test_4():\n",
        "    return count_vowel_letters('')\n",
        "\n",
        "\n",
        "def test_5():\n",
        "    return count_vowel_letters('A')\n",
        "\n",
        "\n",
        "def test_6():\n",
        "    return count_vowel_letters('AEOUh')\n",
        "\n",
        "\n",
        "def test_7():\n",
        "    return count_vowel_letters(123)\n",
        "\n",
        "\n",
        "print(test_1())\n",
        "print(test_2())\n",
        "print(test_3())\n",
        "print(test_4())\n",
        "print(test_5())\n",
        "print(test_6())\n",
        "print(test_7())"
      ]
    },
    {
      "cell_type": "markdown",
      "metadata": {
        "id": "t2ClV_Y0bbr6"
      },
      "source": [
        "# Задача 2\n",
        "Написать функцию на вход, которой подается строка. Функция должна вернуть true, если\n",
        "каждый символ в строке встречается только 1 раз, иначе должна вернуть false. Написать тесты для кода"
      ]
    },
    {
      "cell_type": "code",
      "execution_count": 5,
      "metadata": {
        "id": "FppbECao6VIz"
      },
      "outputs": [
        {
          "name": "stdout",
          "output_type": "stream",
          "text": [
            "True\n",
            "False\n",
            "True\n",
            "False\n",
            "False\n",
            "False\n",
            "True\n",
            "False\n",
            "False\n",
            "Неправильные данные\n"
          ]
        }
      ],
      "source": [
        "def unique_text(text):\n",
        "    if not isinstance(text, str):\n",
        "        return \"Неправильные данные\"\n",
        "    text = text.lower()\n",
        "    for element in text:\n",
        "        if text.count(element) != 1:\n",
        "            return False\n",
        "    return True\n",
        "\n",
        "\n",
        "def test_1():\n",
        "    return unique_text('abcd')\n",
        "\n",
        "\n",
        "def test_2():\n",
        "    return unique_text('aeieou')\n",
        "\n",
        "\n",
        "def test_3():\n",
        "    return unique_text('')\n",
        "\n",
        "\n",
        "def test_4():\n",
        "    return unique_text('aeiei')\n",
        "\n",
        "\n",
        "def test_5():\n",
        "    return unique_text('mckMe')\n",
        "\n",
        "\n",
        "def test_6():\n",
        "    return unique_text('HELLO')\n",
        "\n",
        "\n",
        "def test_7():\n",
        "    return unique_text('HERO')\n",
        "\n",
        "\n",
        "def test_8():\n",
        "    return unique_text('HELLoo')\n",
        "\n",
        "\n",
        "def test_9():\n",
        "    return unique_text('11abc')\n",
        "\n",
        "\n",
        "def test_10():\n",
        "    return unique_text(123)\n",
        "\n",
        "\n",
        "print(test_1())\n",
        "print(test_2())\n",
        "print(test_3())\n",
        "print(test_4())\n",
        "print(test_5())\n",
        "print(test_6())\n",
        "print(test_7())\n",
        "print(test_8())\n",
        "print(test_9())\n",
        "print(test_10())"
      ]
    },
    {
      "cell_type": "markdown",
      "metadata": {
        "id": "udRiIK1cdt6E"
      },
      "source": [
        "# Задача 3\n",
        "Написать функцию, которая принимает положительное число и возвращает количество\n",
        "бит равных 1 в этом числе. Написать тесты для кода"
      ]
    },
    {
      "cell_type": "code",
      "execution_count": 4,
      "metadata": {
        "id": "6tkfDJRz6dp_"
      },
      "outputs": [
        {
          "name": "stdout",
          "output_type": "stream",
          "text": [
            "0\n",
            "1\n",
            "2\n",
            "8\n",
            "2\n",
            "4\n",
            "Неправильные данные\n",
            "Неправильные данные\n"
          ]
        }
      ],
      "source": [
        "def count_bit(n):\n",
        "    if not isinstance(n, int) or n < 0:\n",
        "        return \"Неправильные данные\"\n",
        "    n = bin(n)\n",
        "    count = 0\n",
        "    for bit in n[2:]:\n",
        "        if bit == '1':\n",
        "            count += 1\n",
        "    return count\n",
        "\n",
        "\n",
        "def test_1():\n",
        "    return count_bit(0)\n",
        "\n",
        "\n",
        "def test_2():\n",
        "    return count_bit(1)\n",
        "\n",
        "\n",
        "def test_3():\n",
        "    return count_bit(10)\n",
        "\n",
        "\n",
        "def test_4():\n",
        "    return count_bit(999)\n",
        "\n",
        "\n",
        "def test_5():\n",
        "    return count_bit(136)\n",
        "\n",
        "\n",
        "def test_6():\n",
        "    return count_bit(10500)\n",
        "\n",
        "\n",
        "def test_7():\n",
        "    return count_bit('abc')\n",
        "\n",
        "\n",
        "def test_8():\n",
        "    return count_bit(-3)\n",
        "\n",
        "\n",
        "print(test_1())\n",
        "print(test_2())\n",
        "print(test_3())\n",
        "print(test_4())\n",
        "print(test_5())\n",
        "print(test_6())\n",
        "print(test_7())\n",
        "print(test_8())"
      ]
    },
    {
      "cell_type": "markdown",
      "metadata": {
        "id": "26dDUz-Ae17N"
      },
      "source": [
        "# Задача 4\n",
        "Написать функцию, которая принимает положительное число. Функция должна вернуть то,\n",
        "сколько раз необходимо перемножать цифры числа или результат перемножения, чтобы\n",
        "получилось число состоящее из одной цифры.\n",
        "Например, для входного числа:\n",
        "· 39 функция должна вернуть 3, так как 3*9=27 => 2*7=14 => 1*4=4\n",
        "· 4 функция должна вернуть 0, так как число уже состоит из одной цифры\n",
        "· 999 функция должна вернуть 4, так как 9*9*9=729 => 7*2*9=126 => 1*2*6=12 =>\n",
        "1*2=2. Написать тесты для кода"
      ]
    },
    {
      "cell_type": "code",
      "execution_count": 3,
      "metadata": {
        "id": "BH1A_Mgi6i4G"
      },
      "outputs": [
        {
          "name": "stdout",
          "output_type": "stream",
          "text": [
            "3\n",
            "0\n",
            "4\n",
            "2\n",
            "0\n",
            "Неправильные данные\n",
            "Неправильные данные\n"
          ]
        }
      ],
      "source": [
        "def magic(n):\n",
        "    if not isinstance(n, int) or n < 0:\n",
        "        return \"Неправильные данные\"\n",
        "    if n < 10:\n",
        "        return 0\n",
        "    count = 0\n",
        "\n",
        "    while n >= 10:\n",
        "        result_multiplication = 1\n",
        "        while n > 0:\n",
        "            result_multiplication = result_multiplication * (n % 10)\n",
        "            n //= 10\n",
        "        n = result_multiplication\n",
        "        count += 1\n",
        "\n",
        "    return count\n",
        "\n",
        "\n",
        "def test_1():\n",
        "    return magic(39)\n",
        "\n",
        "\n",
        "def test_2():\n",
        "    return magic(4)\n",
        "\n",
        "\n",
        "def test_3():\n",
        "    return magic(999)\n",
        "\n",
        "\n",
        "def test_4():\n",
        "    return magic(1234)\n",
        "\n",
        "\n",
        "def test_5():\n",
        "    return magic(0)\n",
        "\n",
        "\n",
        "def test_6():\n",
        "    return magic('abc')\n",
        "\n",
        "\n",
        "def test_7():\n",
        "    return magic(-3)\n",
        "\n",
        "\n",
        "print(test_1())\n",
        "print(test_2())\n",
        "print(test_3())\n",
        "print(test_4())\n",
        "print(test_5())\n",
        "print(test_6())\n",
        "print(test_7())"
      ]
    },
    {
      "cell_type": "markdown",
      "metadata": {
        "id": "0nS-kIa8g8vd"
      },
      "source": [
        "# Задача 5\n",
        "Написать функцию, которая принимает два целочисленных вектора одинаковой длины и\n",
        "возвращает среднеквадратическое отклонение двух векторов. Написать тесты для кода"
      ]
    },
    {
      "cell_type": "code",
      "execution_count": null,
      "metadata": {
        "id": "8iphx4LM6xbx"
      },
      "outputs": [],
      "source": [
        "def mse(pred, true):\n",
        "    # Your code goes here\n",
        "    pass"
      ]
    },
    {
      "cell_type": "markdown",
      "metadata": {
        "id": "vpIPKL439zkw"
      },
      "source": [
        "# Задача 6\n",
        "Написать функцию, принимающая целое положительное число. Функция должна вернуть\n",
        "строку вида “(n1**p1)(n2**p2)…(nk**pk)” представляющая разложение числа на простые\n",
        "множители (если pi == 1, то выводить только ni).\n",
        "Например, для числа 86240 функция должна вернуть “(2**5)(5)(7**2)(11)”. Написать тесты для кода"
      ]
    },
    {
      "cell_type": "code",
      "execution_count": 2,
      "metadata": {
        "id": "pFebmcZk94Jw"
      },
      "outputs": [
        {
          "name": "stdout",
          "output_type": "stream",
          "text": [
            "(2**5)(5)(7**2)(11)\n",
            "()\n",
            "(2)\n",
            "(2**10)\n",
            "(3**2)(11)(101)\n",
            "Неправильные данные\n",
            "Неправильные данные\n"
          ]
        }
      ],
      "source": [
        "def decomposition(n):\n",
        "    if not isinstance(n, int) or n < 0:\n",
        "        return \"Неправильные данные\"\n",
        "\n",
        "    multipliers = []\n",
        "    divisor = 2\n",
        "\n",
        "    while n > 1:\n",
        "        power = 0\n",
        "        while n % divisor == 0:\n",
        "            n //= divisor\n",
        "            power += 1\n",
        "        if power > 0:\n",
        "            if power == 1:\n",
        "                multipliers.append(str(divisor))\n",
        "            else:\n",
        "                multipliers.append(f'{divisor}**{power}')\n",
        "        divisor += 1\n",
        "\n",
        "    return '(' + ')('.join(multipliers) + ')'\n",
        "\n",
        "\n",
        "def test_1():\n",
        "    return decomposition(86240)\n",
        "\n",
        "\n",
        "def test_2():\n",
        "    return decomposition(1)\n",
        "\n",
        "\n",
        "def test_3():\n",
        "    return decomposition(2)\n",
        "\n",
        "\n",
        "def test_4():\n",
        "    return decomposition(1024)\n",
        "\n",
        "\n",
        "def test_5():\n",
        "    return decomposition(9999)\n",
        "\n",
        "\n",
        "def test_6():\n",
        "    return decomposition('abc')\n",
        "\n",
        "\n",
        "def test_7():\n",
        "    return decomposition(-1)\n",
        "\n",
        "\n",
        "print(test_1())\n",
        "print(test_2())\n",
        "print(test_3())\n",
        "print(test_4())\n",
        "print(test_5())\n",
        "print(test_6())\n",
        "print(test_7())"
      ]
    },
    {
      "cell_type": "markdown",
      "metadata": {
        "id": "ps2s0BudX7A2"
      },
      "source": [
        "# Задача 7\n",
        "Написать функцию, принимающая целое число n, задающее количество кубиков. Функция\n",
        "должна определить, можно ли из данного кол-ва кубиков построить пирамиду, то есть\n",
        "можно ли представить число n как 1^2+2^2+3^2+…+k^2. Если можно, то функция должна\n",
        "вернуть k, иначе строку “It is impossible”. Написать тесты для кода"
      ]
    },
    {
      "cell_type": "code",
      "execution_count": 5,
      "metadata": {
        "id": "3YPjEXxhX_YT"
      },
      "outputs": [
        {
          "name": "stdout",
          "output_type": "stream",
          "text": [
            "2\n",
            "3\n",
            "4\n",
            "5\n",
            "It is impossible\n",
            "It is impossible\n",
            "It is impossible\n",
            "10\n",
            "Неправильные данные\n",
            "Неправильные данные\n"
          ]
        }
      ],
      "source": [
        "def pyramid(number):\n",
        "    if not isinstance(number, int) or number < 0:\n",
        "        return \"Неправильные данные\"\n",
        "\n",
        "    sum = 0\n",
        "    k = 0\n",
        "\n",
        "    while sum < number:\n",
        "        k += 1\n",
        "        sum += k ** 2\n",
        "\n",
        "    if sum == number:\n",
        "        return k\n",
        "    else:\n",
        "        return 'It is impossible'\n",
        "\n",
        "\n",
        "def test_1():\n",
        "    return pyramid(5)\n",
        "\n",
        "\n",
        "def test_2():\n",
        "    return pyramid(14)\n",
        "\n",
        "\n",
        "def test_3():\n",
        "    return pyramid(30)\n",
        "\n",
        "\n",
        "def test_4():\n",
        "    return pyramid(55)\n",
        "\n",
        "\n",
        "def test_5():\n",
        "    return pyramid(12)\n",
        "\n",
        "\n",
        "def test_6():\n",
        "    return pyramid(4)\n",
        "\n",
        "\n",
        "def test_7():\n",
        "    return pyramid(66)\n",
        "\n",
        "\n",
        "def test_8():\n",
        "    return pyramid(385)\n",
        "\n",
        "\n",
        "def test_9():\n",
        "    return pyramid('abc')\n",
        "\n",
        "\n",
        "def test_10():\n",
        "    return pyramid(-1)\n",
        "\n",
        "\n",
        "print(test_1())\n",
        "print(test_2())\n",
        "print(test_3())\n",
        "print(test_4())\n",
        "print(test_5())\n",
        "print(test_6())\n",
        "print(test_7())\n",
        "print(test_8())\n",
        "print(test_9())\n",
        "print(test_10())"
      ]
    },
    {
      "cell_type": "markdown",
      "metadata": {
        "id": "KeKgmIdAQMEJ"
      },
      "source": [
        "# Задача 8\n",
        "Функция принимает на вход положительное число и определяет является ли оно сбалансированным, т.е. сумма цифр до средних равна сумме цифр после. Средними в случае нечетного числа цифр считать одну цифру, в случае четного - две средних. Написать тесты для кода"
      ]
    },
    {
      "cell_type": "code",
      "execution_count": 1,
      "metadata": {
        "id": "gMAAqtqlQrZt"
      },
      "outputs": [
        {
          "name": "stdout",
          "output_type": "stream",
          "text": [
            "True\n",
            "True\n",
            "True\n",
            "False\n",
            "False\n",
            "False\n",
            "False\n",
            "True\n",
            "Неправильные данные\n",
            "Неправильные данные\n"
          ]
        }
      ],
      "source": [
        "def balanced_numbers(number):\n",
        "    if not isinstance(number, int) or number < 0:\n",
        "        return \"Неправильные данные\"\n",
        "\n",
        "    number_str = str(number)\n",
        "    length = len(number_str)\n",
        "    left_sum = 0\n",
        "    right_sum = 0\n",
        "\n",
        "    if length % 2 == 0:\n",
        "        for digit in number_str[:length // 2]:\n",
        "            left_sum += int(digit)\n",
        "        for digit in number_str[length // 2:]:\n",
        "            right_sum += int(digit)\n",
        "    else:\n",
        "        for digit in number_str[:length // 2]:\n",
        "            left_sum += int(digit)\n",
        "        for digit in number_str[length // 2 + 1:]:\n",
        "            right_sum += int(digit)\n",
        "\n",
        "    return left_sum == right_sum\n",
        "\n",
        "\n",
        "def test_1():\n",
        "    return balanced_numbers(12312)\n",
        "\n",
        "\n",
        "def test_2():\n",
        "    return balanced_numbers(123321)\n",
        "\n",
        "\n",
        "def test_3():\n",
        "    return balanced_numbers(0)\n",
        "\n",
        "\n",
        "def test_4():\n",
        "    return balanced_numbers(123456)\n",
        "\n",
        "\n",
        "def test_5():\n",
        "    return balanced_numbers(12341)\n",
        "\n",
        "\n",
        "def test_6():\n",
        "    return balanced_numbers(12)\n",
        "\n",
        "\n",
        "def test_7():\n",
        "    return balanced_numbers(21)\n",
        "\n",
        "\n",
        "def test_8():\n",
        "    return balanced_numbers(11)\n",
        "\n",
        "\n",
        "def test_9():\n",
        "    return balanced_numbers('abc')\n",
        "\n",
        "\n",
        "def test_10():\n",
        "    return balanced_numbers(-5)\n",
        "\n",
        "\n",
        "print(test_1())\n",
        "print(test_2())\n",
        "print(test_3())\n",
        "print(test_4())\n",
        "print(test_5())\n",
        "print(test_6())\n",
        "print(test_7())\n",
        "print(test_8())\n",
        "print(test_9())\n",
        "print(test_10())"
      ]
    }
  ],
  "metadata": {
    "colab": {
      "provenance": []
    },
    "kernelspec": {
      "display_name": "Python 3",
      "name": "python3"
    },
    "language_info": {
      "codemirror_mode": {
        "name": "ipython",
        "version": 3
      },
      "file_extension": ".py",
      "mimetype": "text/x-python",
      "name": "python",
      "nbconvert_exporter": "python",
      "pygments_lexer": "ipython3",
      "version": "3.11.8"
    }
  },
  "nbformat": 4,
  "nbformat_minor": 0
}
