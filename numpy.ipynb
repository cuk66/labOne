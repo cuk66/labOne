{
  "cells": [
    {
      "cell_type": "markdown",
      "metadata": {
        "id": "vC84e9kzyxPy"
      },
      "source": [
        "<h1>Импорт библиотек"
      ]
    },
    {
      "cell_type": "code",
      "execution_count": null,
      "metadata": {
        "id": "cgKeNegmQG5S"
      },
      "outputs": [],
      "source": [
        "import numpy as np\n",
        "import matplotlib.pyplot as plt"
      ]
    },
    {
      "cell_type": "markdown",
      "metadata": {
        "id": "qFM9uVU2x4Ls"
      },
      "source": [
        "<h1>Задача 1. Дан набор из $p$ матриц размерностью $(n, n)$ и $p$ векторов размерностью $(n, 1)$, найти сумму произведений матриц на векторы. Написать тесты для кода"
      ]
    },
    {
      "cell_type": "code",
      "execution_count": 4,
      "metadata": {
        "id": "IAbUvEiYyWFF"
      },
      "outputs": [
        {
          "name": "stdout",
          "output_type": "stream",
          "text": [
            "[[58]\n",
            " [90]]\n",
            "\n",
            "[[23]\n",
            " [46]]\n"
          ]
        }
      ],
      "source": [
        "import numpy as np\n",
        "\n",
        "\n",
        "def sum_prod(X, V):\n",
        "    '''\n",
        "    X - матрицы (n, n)\n",
        "    V - векторы (n, 1)\n",
        "    Гарантируется, что len(X) == len(V)\n",
        "    '''\n",
        "\n",
        "    result = 0\n",
        "    for i in range(len(X)):\n",
        "        result += np.dot(X[i], V[i])\n",
        "    return result\n",
        "\n",
        "\n",
        "def test_1():\n",
        "    X = np.array([\n",
        "        np.array([\n",
        "            [1, 2],\n",
        "            [3, 4]\n",
        "        ]),\n",
        "        np.array([\n",
        "            [5, 6],\n",
        "            [7, 8]\n",
        "        ])\n",
        "    ])\n",
        "\n",
        "    V = np.array([\n",
        "        np.array([\n",
        "            [5],\n",
        "            [1]\n",
        "        ]),\n",
        "        np.array([\n",
        "            [9],\n",
        "            [1]\n",
        "        ])\n",
        "    ])\n",
        "    return sum_prod(X, V)\n",
        "\n",
        "\n",
        "def test_2():\n",
        "    X = np.array([\n",
        "        np.array([\n",
        "            [4, 1],\n",
        "            [8, 9]\n",
        "        ]),\n",
        "        np.array([\n",
        "            [4, 2],\n",
        "            [6, 1]\n",
        "        ])\n",
        "    ])\n",
        "\n",
        "    V = np.array([\n",
        "        np.array([\n",
        "            [3],\n",
        "            [1]\n",
        "        ]),\n",
        "        np.array([\n",
        "            [2],\n",
        "            [1]\n",
        "        ])\n",
        "    ])\n",
        "    return sum_prod(X, V)\n",
        "\n",
        "\n",
        "print(test_1())\n",
        "print()\n",
        "print(test_2())"
      ]
    },
    {
      "cell_type": "markdown",
      "metadata": {
        "id": "TKwPG4fIy2w4"
      },
      "source": [
        "<h1>Задача 2. Дана матрица M, напишите функцию, которая бинаризует матрицу по некоторому threshold (то есть, все значения большие threshold становятся равными 1, иначе 0). Напишите тесты для кода"
      ]
    },
    {
      "cell_type": "code",
      "execution_count": 5,
      "metadata": {
        "id": "KQDNMgsjRNH7"
      },
      "outputs": [
        {
          "name": "stdout",
          "output_type": "stream",
          "text": [
            "[[0 1]\n",
            " [1 0]]\n",
            "\n",
            "[[1 1]\n",
            " [1 1]]\n",
            "\n",
            "[[0 0]\n",
            " [0 0]]\n",
            "\n",
            "[[1 1]\n",
            " [1 1]]\n",
            "\n",
            "Неверные данные\n"
          ]
        }
      ],
      "source": [
        "import numpy as np\n",
        "\n",
        "\n",
        "def binarize(M, threshold=0.5):\n",
        "    if M.dtype != float and M.dtype != int:\n",
        "        return \"Неверные данные\"\n",
        "    return np.where(M > threshold, 1, 0)\n",
        "\n",
        "\n",
        "def test_1():\n",
        "    M = np.array([[0.1, 0.6],\n",
        "                  [0.7, 0.2]])\n",
        "    return binarize(M)\n",
        "\n",
        "\n",
        "def test_2():\n",
        "    M = np.array([[10, 20],\n",
        "                  [30, 40]])\n",
        "    return binarize(M)\n",
        "\n",
        "\n",
        "def test_3():\n",
        "    M = np.array([[0, 0],\n",
        "                  [0, 0]])\n",
        "    return binarize(M)\n",
        "\n",
        "\n",
        "def test_4():\n",
        "    M = np.array([[0.7, 0.55],\n",
        "                  [0.61, 0.8]])\n",
        "    return binarize(M)\n",
        "\n",
        "\n",
        "def test_5():\n",
        "    M = np.array([[1, 'a'],\n",
        "                  [0.2, 0.8]])\n",
        "    return binarize(M)\n",
        "\n",
        "\n",
        "print(test_1())\n",
        "print()\n",
        "print(test_2())\n",
        "print()\n",
        "print(test_3())\n",
        "print()\n",
        "print(test_4())\n",
        "print()\n",
        "print(test_5())"
      ]
    },
    {
      "cell_type": "markdown",
      "metadata": {
        "id": "IY5L-h-7zWhN"
      },
      "source": [
        "<h1>Задача 3. Напишите функцию, которая возвращает уникальные элементы из каждой строки матрицы. Напишите такую же функцию, но для столбцов. Напишите тесты для кода"
      ]
    },
    {
      "cell_type": "code",
      "execution_count": 6,
      "metadata": {
        "id": "-8dEZhR0SBC-"
      },
      "outputs": [
        {
          "name": "stdout",
          "output_type": "stream",
          "text": [
            "Уникальные элементы в каждой строке: [array([0, 1, 4]), array([ 5,  6, 10]), array([2, 7, 8])]\n",
            "Уникальные элементы в каждом столбце: [array([1, 2, 6]), array([ 0,  8, 10]), array([4, 5, 7])]\n",
            "\n",
            "Уникальные элементы в каждой строке: [array([1, 2]), array([1, 3]), array([1, 5])]\n",
            "Уникальные элементы в каждом столбце: [array([1, 5]), array([1, 2]), array([1, 3])]\n",
            "\n",
            "Уникальные элементы в каждой строке: [array([1]), array([1]), array([1])]\n",
            "Уникальные элементы в каждом столбце: [array([1]), array([1]), array([1])]\n",
            "\n",
            "Уникальные элементы в каждой строке: [array([0]), array([0])]\n",
            "Уникальные элементы в каждом столбце: [array([0]), array([0])]\n",
            "\n"
          ]
        }
      ],
      "source": [
        "import numpy as np\n",
        "\n",
        "\n",
        "def unique_rows(mat):\n",
        "    arr = []\n",
        "    for row in mat:\n",
        "        arr.append(np.unique(row))\n",
        "    return arr\n",
        "\n",
        "\n",
        "def unique_columns(mat):\n",
        "    arr = []\n",
        "    for column in mat.T:\n",
        "        arr.append(np.unique(column))\n",
        "    return arr\n",
        "\n",
        "\n",
        "def test_1():\n",
        "    mat = np.array(\n",
        "        [\n",
        "            [1, 0, 4],\n",
        "            [6, 10, 5],\n",
        "            [2, 8, 7]\n",
        "        ])\n",
        "\n",
        "    print(f\"Уникальные элементы в каждой строке: {unique_rows(mat)}\")\n",
        "    print(f\"Уникальные элементы в каждом столбце: {unique_columns(mat)}\")\n",
        "    print()\n",
        "\n",
        "\n",
        "def test_2():\n",
        "    mat = np.array(\n",
        "        [\n",
        "            [1, 2, 1],\n",
        "            [1, 1, 3],\n",
        "            [5, 1, 1]\n",
        "        ])\n",
        "\n",
        "    print(f\"Уникальные элементы в каждой строке: {unique_rows(mat)}\")\n",
        "    print(f\"Уникальные элементы в каждом столбце: {unique_columns(mat)}\")\n",
        "    print()\n",
        "\n",
        "\n",
        "def test_3():\n",
        "    mat = np.array(\n",
        "        [\n",
        "            [1, 1, 1],\n",
        "            [1, 1, 1],\n",
        "            [1, 1, 1]\n",
        "        ])\n",
        "\n",
        "    print(f\"Уникальные элементы в каждой строке: {unique_rows(mat)}\")\n",
        "    print(f\"Уникальные элементы в каждом столбце: {unique_columns(mat)}\")\n",
        "    print()\n",
        "\n",
        "\n",
        "def test_4():\n",
        "    mat = np.array(\n",
        "        [\n",
        "            [0, 0],\n",
        "            [0, 0],\n",
        "        ])\n",
        "\n",
        "    print(f\"Уникальные элементы в каждой строке: {unique_rows(mat)}\")\n",
        "    print(f\"Уникальные элементы в каждом столбце: {unique_columns(mat)}\")\n",
        "    print()\n",
        "\n",
        "\n",
        "test_1()\n",
        "test_2()\n",
        "test_3()\n",
        "test_4()"
      ]
    },
    {
      "cell_type": "markdown",
      "metadata": {
        "id": "roYAlo4Jz-lH"
      },
      "source": [
        "<h1>Задача 4. Напишите функцию, которая заполняет матрицу с размерами $(m, n)$ случайными числами, распределенными по нормальному закону. Затем считает мат. ожидание и дисперсию для каждого из столбцов и строк, а также строит для каждой строки и столбца гистограмму значений (использовать функцию hist из модуля matplotlib.plot)"
      ]
    },
    {
      "cell_type": "code",
      "execution_count": null,
      "metadata": {
        "id": "nZK_71hMSQzv"
      },
      "outputs": [],
      "source": [
        "# Your code goes here"
      ]
    },
    {
      "cell_type": "markdown",
      "metadata": {
        "id": "BDyATNdM0dJ2"
      },
      "source": [
        "<h1>Задача 5. Напишите функцию, которая заполняет матрицу $(m, n)$ в шахматном порядке заданными числами $a$ и $b$. Напишите тесты для кода"
      ]
    },
    {
      "cell_type": "code",
      "execution_count": 1,
      "metadata": {
        "id": "RWNJYWQGecS6"
      },
      "outputs": [
        {
          "name": "stdout",
          "output_type": "stream",
          "text": [
            "[[1. 2. 1. 2. 1.]\n",
            " [2. 1. 2. 1. 2.]\n",
            " [1. 2. 1. 2. 1.]\n",
            " [2. 1. 2. 1. 2.]\n",
            " [1. 2. 1. 2. 1.]]\n",
            "\n",
            "[[0. 1.]\n",
            " [1. 0.]\n",
            " [0. 1.]\n",
            " [1. 0.]]\n",
            "\n",
            "[[ 3. -4.  3. -4.  3. -4.]\n",
            " [-4.  3. -4.  3. -4.  3.]]\n",
            "\n",
            "Неверные данные\n",
            "\n",
            "Неверные данные\n",
            "\n",
            "Неверные данные\n"
          ]
        }
      ],
      "source": [
        "import numpy as np\n",
        "\n",
        "\n",
        "def chess(m, n, a, b):\n",
        "    if type(m) != int or type(n) != int or type(a) != int or type(b) != int or m < 0 or n < 0:\n",
        "        return \"Неверные данные\"\n",
        "    chessboard = np.ones((m, n))\n",
        "    for i in range(m):\n",
        "        for j in range(n):\n",
        "            if (i + j) % 2 == 0:\n",
        "                chessboard[i, j] = a\n",
        "            else:\n",
        "                chessboard[i, j] = b\n",
        "    return chessboard\n",
        "\n",
        "\n",
        "def test_1():\n",
        "    return chess(5, 5, 1, 2)\n",
        "\n",
        "\n",
        "def test_2():\n",
        "    return chess(4, 2, 0, 1)\n",
        "\n",
        "\n",
        "def test_3():\n",
        "    return chess(2, 6, 3, -4)\n",
        "\n",
        "\n",
        "def test_4():\n",
        "    return chess(-1, 6, 3, 4)\n",
        "\n",
        "\n",
        "def test_5():\n",
        "    return chess(1, 'abc', 3, 4)\n",
        "\n",
        "\n",
        "def test_6():\n",
        "    return chess(1, 8, 'a', 4)\n",
        "\n",
        "\n",
        "print(test_1())\n",
        "print()\n",
        "print(test_2())\n",
        "print()\n",
        "print(test_3())\n",
        "print()\n",
        "print(test_4())\n",
        "print()\n",
        "print(test_5())\n",
        "print()\n",
        "print(test_6())"
      ]
    },
    {
      "cell_type": "markdown",
      "metadata": {
        "id": "-ymXLtTN0vB6"
      },
      "source": [
        "<h1>Задача 6. Напишите функцию, которая отрисовывает прямоугольник с заданными размерами (a, b) на изображении размера (m, n), цвет фона задайте в схеме RGB, как и цвет прямоугольника. Цвета также должны быть параметрами функции. Напишите аналогичную функцию но для овала с полуосями a и b. Напишите тесты для кода.\n",
        "Примечание: уравнение эллипса (границы овала) можно записать как:\n",
        "<h1>$\\frac{(x-x_0)^2}{a^2}+\\frac{(y-y_0)^2}{b^2}=1$"
      ]
    },
    {
      "cell_type": "code",
      "execution_count": 1,
      "metadata": {
        "id": "sNfl1t_kfOF4"
      },
      "outputs": [],
      "source": [
        "def draw_rectangle(a, b, m, n, rectangle_color, background_color):\n",
        "    # Your code goes here\n",
        "    pass\n",
        "\n",
        "def draw_ellipse(a, b, m, n, ellipse_color, background_color):\n",
        "    # Your code goes here\n",
        "    pass"
      ]
    },
    {
      "cell_type": "markdown",
      "metadata": {
        "id": "S82c38oz244H"
      },
      "source": [
        "<h1>Задача 7. Дан некий временной ряд. Для данного ряда нужно найти его: математическое ожидание, дисперсию, СКО, найти все локальные максимумы и минимумы (локальный максимум - это точка, которая больше своих соседних точек, а локальный минимум - это точка, которая меньше своих соседей), а также вычислить для данного ряда другой ряд, получаемый методом скользящего среднего с размером окна $p$.\n",
        "<h1>Примечание: метод скользящего среднего подразумевает нахождение среднего из подмножетсва ряда размером $p$"
      ]
    },
    {
      "cell_type": "code",
      "execution_count": null,
      "metadata": {
        "id": "Zb9mIVge5MMt"
      },
      "outputs": [],
      "source": [
        "# Your code goes here"
      ]
    },
    {
      "cell_type": "markdown",
      "metadata": {
        "id": "jPkylmOX5O9n"
      },
      "source": [
        "<h1> Задача 8. Дан некоторый вектор с целочисленными метками классов, напишите функцию, которая выполняет one-hot-encoding для данного вектора\n",
        "<h1> One-hot-encoding - представление, в котором на месте метки некоторого класса стоит 1, в остальных позициях стоит 0. Например для вектора [0, 2, 3, 0] one-hot-encoding выглядит как: [[1, 0, 0, 0], [0, 0, 1, 0], [0, 0, 0, 1], [1, 0, 0, 0]]"
      ]
    },
    {
      "cell_type": "code",
      "execution_count": 8,
      "metadata": {
        "id": "Y-jlnZvw56lD"
      },
      "outputs": [
        {
          "name": "stdout",
          "output_type": "stream",
          "text": [
            "[[1. 0. 0. 0.]\n",
            " [0. 0. 1. 0.]\n",
            " [0. 0. 0. 1.]\n",
            " [1. 0. 0. 0.]]\n",
            "\n",
            "[[0. 0. 1. 0. 0.]\n",
            " [0. 0. 0. 1. 0.]\n",
            " [0. 0. 0. 0. 1.]\n",
            " [1. 0. 0. 0. 0.]]\n",
            "\n",
            "[[0. 0. 0. 1. 0.]\n",
            " [0. 0. 0. 0. 1.]\n",
            " [0. 0. 1. 0. 0.]\n",
            " [0. 1. 0. 0. 0.]]\n",
            "\n",
            "[[0. 0. 0. 0. 0. 1.]\n",
            " [1. 0. 0. 0. 0. 0.]\n",
            " [0. 0. 0. 0. 1. 0.]]\n",
            "\n",
            "[[1.]\n",
            " [1.]\n",
            " [1.]]\n",
            "\n",
            "[[0. 0. 1.]\n",
            " [0. 0. 1.]\n",
            " [0. 0. 1.]]\n"
          ]
        }
      ],
      "source": [
        "import numpy as np\n",
        "\n",
        "\n",
        "def one_hot_encoding(vector):\n",
        "    num_classes = np.max(vector) + 1\n",
        "    num_samples = len(vector)\n",
        "    encoded_vector = np.zeros((num_samples, num_classes))\n",
        "    encoded_vector[np.arange(num_samples), vector] = 1\n",
        "    return encoded_vector\n",
        "\n",
        "\n",
        "def test_1():\n",
        "    return one_hot_encoding([0, 2, 3, 0])\n",
        "\n",
        "\n",
        "def test_2():\n",
        "    return one_hot_encoding([2, 3, 4, 0])\n",
        "\n",
        "\n",
        "def test_3():\n",
        "    return one_hot_encoding([3, 4, 2, 1])\n",
        "\n",
        "\n",
        "def test_4():\n",
        "    return one_hot_encoding([5, 0, 4])\n",
        "\n",
        "\n",
        "def test_5():\n",
        "    return one_hot_encoding([0, 0, 0])\n",
        "\n",
        "\n",
        "def test_6():\n",
        "    return one_hot_encoding([2, 2, 2])\n",
        "\n",
        "\n",
        "print(test_1())\n",
        "print()\n",
        "print(test_2())\n",
        "print()\n",
        "print(test_3())\n",
        "print()\n",
        "print(test_4())\n",
        "print()\n",
        "print(test_5())\n",
        "print()\n",
        "print(test_6())"
      ]
    }
  ],
  "metadata": {
    "colab": {
      "provenance": []
    },
    "kernelspec": {
      "display_name": "Python 3",
      "name": "python3"
    },
    "language_info": {
      "codemirror_mode": {
        "name": "ipython",
        "version": 3
      },
      "file_extension": ".py",
      "mimetype": "text/x-python",
      "name": "python",
      "nbconvert_exporter": "python",
      "pygments_lexer": "ipython3",
      "version": "3.11.8"
    }
  },
  "nbformat": 4,
  "nbformat_minor": 0
}
